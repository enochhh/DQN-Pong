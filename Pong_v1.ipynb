{
 "cells": [
  {
   "cell_type": "code",
   "execution_count": 1,
   "metadata": {
    "scrolled": true
   },
   "outputs": [
    {
     "name": "stdout",
     "output_type": "stream",
     "text": [
      "Requirement already satisfied: tensorflow==2.3.1 in c:\\users\\enoch\\appdata\\local\\programs\\python\\python37\\lib\\site-packages (2.3.1)\n",
      "Requirement already satisfied: gym in c:\\users\\enoch\\srproj\\gym (0.17.3)\n",
      "Requirement already satisfied: keras-rl2 in c:\\users\\enoch\\appdata\\local\\programs\\python\\python37\\lib\\site-packages (1.0.4)\n",
      "Requirement already satisfied: protobuf>=3.9.2 in c:\\users\\enoch\\appdata\\local\\programs\\python\\python37\\lib\\site-packages (from tensorflow==2.3.1) (3.13.0)\n",
      "Requirement already satisfied: absl-py>=0.7.0 in c:\\users\\enoch\\appdata\\local\\programs\\python\\python37\\lib\\site-packages (from tensorflow==2.3.1) (0.7.1)\n",
      "Requirement already satisfied: termcolor>=1.1.0 in c:\\users\\enoch\\appdata\\local\\programs\\python\\python37\\lib\\site-packages (from tensorflow==2.3.1) (1.1.0)\n",
      "Requirement already satisfied: google-pasta>=0.1.8 in c:\\users\\enoch\\appdata\\local\\programs\\python\\python37\\lib\\site-packages (from tensorflow==2.3.1) (0.2.0)\n",
      "Requirement already satisfied: numpy<1.19.0,>=1.16.0 in c:\\users\\enoch\\appdata\\local\\programs\\python\\python37\\lib\\site-packages (from tensorflow==2.3.1) (1.16.4)\n",
      "Requirement already satisfied: tensorboard<3,>=2.3.0 in c:\\users\\enoch\\appdata\\local\\programs\\python\\python37\\lib\\site-packages (from tensorflow==2.3.1) (2.3.0)\n",
      "Requirement already satisfied: h5py<2.11.0,>=2.10.0 in c:\\users\\enoch\\appdata\\local\\programs\\python\\python37\\lib\\site-packages (from tensorflow==2.3.1) (2.10.0)\n",
      "Requirement already satisfied: keras-preprocessing<1.2,>=1.1.1 in c:\\users\\enoch\\appdata\\local\\programs\\python\\python37\\lib\\site-packages (from tensorflow==2.3.1) (1.1.2)\n",
      "Requirement already satisfied: opt-einsum>=2.3.2 in c:\\users\\enoch\\appdata\\local\\programs\\python\\python37\\lib\\site-packages (from tensorflow==2.3.1) (3.3.0)\n",
      "Requirement already satisfied: tensorflow-estimator<2.4.0,>=2.3.0 in c:\\users\\enoch\\appdata\\local\\programs\\python\\python37\\lib\\site-packages (from tensorflow==2.3.1) (2.3.0)\n",
      "Requirement already satisfied: six>=1.12.0 in c:\\users\\enoch\\appdata\\local\\programs\\python\\python37\\lib\\site-packages (from tensorflow==2.3.1) (1.12.0)\n",
      "Requirement already satisfied: grpcio>=1.8.6 in c:\\users\\enoch\\appdata\\local\\programs\\python\\python37\\lib\\site-packages (from tensorflow==2.3.1) (1.33.2)\n",
      "Requirement already satisfied: wrapt>=1.11.1 in c:\\users\\enoch\\appdata\\local\\programs\\python\\python37\\lib\\site-packages (from tensorflow==2.3.1) (1.11.2)\n",
      "Requirement already satisfied: astunparse==1.6.3 in c:\\users\\enoch\\appdata\\local\\programs\\python\\python37\\lib\\site-packages (from tensorflow==2.3.1) (1.6.3)\n",
      "Requirement already satisfied: gast==0.3.3 in c:\\users\\enoch\\appdata\\local\\programs\\python\\python37\\lib\\site-packages (from tensorflow==2.3.1) (0.3.3)\n",
      "Requirement already satisfied: wheel>=0.26 in c:\\users\\enoch\\appdata\\local\\programs\\python\\python37\\lib\\site-packages (from tensorflow==2.3.1) (0.33.4)\n",
      "Requirement already satisfied: scipy in c:\\users\\enoch\\appdata\\local\\programs\\python\\python37\\lib\\site-packages (from gym) (1.4.1)\n",
      "Requirement already satisfied: pyglet<=1.5.0,>=1.4.0 in c:\\users\\enoch\\appdata\\local\\programs\\python\\python37\\lib\\site-packages (from gym) (1.5.0)\n",
      "Requirement already satisfied: cloudpickle<1.7.0,>=1.2.0 in c:\\users\\enoch\\appdata\\local\\programs\\python\\python37\\lib\\site-packages (from gym) (1.6.0)\n",
      "Requirement already satisfied: setuptools in c:\\users\\enoch\\appdata\\local\\programs\\python\\python37\\lib\\site-packages (from protobuf>=3.9.2->tensorflow==2.3.1) (41.0.1)\n",
      "Requirement already satisfied: markdown>=2.6.8 in c:\\users\\enoch\\appdata\\local\\programs\\python\\python37\\lib\\site-packages (from tensorboard<3,>=2.3.0->tensorflow==2.3.1) (3.1.1)\n",
      "Requirement already satisfied: requests<3,>=2.21.0 in c:\\users\\enoch\\appdata\\local\\programs\\python\\python37\\lib\\site-packages (from tensorboard<3,>=2.3.0->tensorflow==2.3.1) (2.24.0)\n",
      "Requirement already satisfied: google-auth-oauthlib<0.5,>=0.4.1 in c:\\users\\enoch\\appdata\\local\\programs\\python\\python37\\lib\\site-packages (from tensorboard<3,>=2.3.0->tensorflow==2.3.1) (0.4.2)\n",
      "Requirement already satisfied: google-auth<2,>=1.6.3 in c:\\users\\enoch\\appdata\\local\\programs\\python\\python37\\lib\\site-packages (from tensorboard<3,>=2.3.0->tensorflow==2.3.1) (1.23.0)\n",
      "Requirement already satisfied: werkzeug>=0.11.15 in c:\\users\\enoch\\appdata\\local\\programs\\python\\python37\\lib\\site-packages (from tensorboard<3,>=2.3.0->tensorflow==2.3.1) (0.15.4)\n",
      "Requirement already satisfied: tensorboard-plugin-wit>=1.6.0 in c:\\users\\enoch\\appdata\\local\\programs\\python\\python37\\lib\\site-packages (from tensorboard<3,>=2.3.0->tensorflow==2.3.1) (1.7.0)\n",
      "Requirement already satisfied: future in c:\\users\\enoch\\appdata\\local\\programs\\python\\python37\\lib\\site-packages (from pyglet<=1.5.0,>=1.4.0->gym) (0.18.2)\n",
      "Requirement already satisfied: urllib3!=1.25.0,!=1.25.1,<1.26,>=1.21.1 in c:\\users\\enoch\\appdata\\local\\programs\\python\\python37\\lib\\site-packages (from requests<3,>=2.21.0->tensorboard<3,>=2.3.0->tensorflow==2.3.1) (1.25.11)\n",
      "Requirement already satisfied: certifi>=2017.4.17 in c:\\users\\enoch\\appdata\\local\\programs\\python\\python37\\lib\\site-packages (from requests<3,>=2.21.0->tensorboard<3,>=2.3.0->tensorflow==2.3.1) (2020.6.20)\n",
      "Requirement already satisfied: idna<3,>=2.5 in c:\\users\\enoch\\appdata\\local\\programs\\python\\python37\\lib\\site-packages (from requests<3,>=2.21.0->tensorboard<3,>=2.3.0->tensorflow==2.3.1) (2.8)\n",
      "Requirement already satisfied: chardet<4,>=3.0.2 in c:\\users\\enoch\\appdata\\local\\programs\\python\\python37\\lib\\site-packages (from requests<3,>=2.21.0->tensorboard<3,>=2.3.0->tensorflow==2.3.1) (3.0.4)\n",
      "Requirement already satisfied: requests-oauthlib>=0.7.0 in c:\\users\\enoch\\appdata\\local\\programs\\python\\python37\\lib\\site-packages (from google-auth-oauthlib<0.5,>=0.4.1->tensorboard<3,>=2.3.0->tensorflow==2.3.1) (1.3.0)\n",
      "Requirement already satisfied: cachetools<5.0,>=2.0.0 in c:\\users\\enoch\\appdata\\local\\programs\\python\\python37\\lib\\site-packages (from google-auth<2,>=1.6.3->tensorboard<3,>=2.3.0->tensorflow==2.3.1) (4.1.1)\n",
      "Requirement already satisfied: pyasn1-modules>=0.2.1 in c:\\users\\enoch\\appdata\\local\\programs\\python\\python37\\lib\\site-packages (from google-auth<2,>=1.6.3->tensorboard<3,>=2.3.0->tensorflow==2.3.1) (0.2.8)\n",
      "Requirement already satisfied: rsa<5,>=3.1.4; python_version >= \"3.5\" in c:\\users\\enoch\\appdata\\local\\programs\\python\\python37\\lib\\site-packages (from google-auth<2,>=1.6.3->tensorboard<3,>=2.3.0->tensorflow==2.3.1) (4.6)\n",
      "Requirement already satisfied: oauthlib>=3.0.0 in c:\\users\\enoch\\appdata\\local\\programs\\python\\python37\\lib\\site-packages (from requests-oauthlib>=0.7.0->google-auth-oauthlib<0.5,>=0.4.1->tensorboard<3,>=2.3.0->tensorflow==2.3.1) (3.1.0)\n",
      "Requirement already satisfied: pyasn1<0.5.0,>=0.4.6 in c:\\users\\enoch\\appdata\\local\\programs\\python\\python37\\lib\\site-packages (from pyasn1-modules>=0.2.1->google-auth<2,>=1.6.3->tensorboard<3,>=2.3.0->tensorflow==2.3.1) (0.4.8)\n"
     ]
    },
    {
     "name": "stderr",
     "output_type": "stream",
     "text": [
      "WARNING: You are using pip version 20.2.4; however, version 21.0.1 is available.\n",
      "You should consider upgrading via the 'c:\\users\\enoch\\appdata\\local\\programs\\python\\python37\\python.exe -m pip install --upgrade pip' command.\n"
     ]
    }
   ],
   "source": [
    "import sys\n",
    "!{sys.executable} -m pip install tensorflow==2.3.1 gym keras-rl2 gym[atari]"
   ]
  },
  {
   "cell_type": "code",
   "execution_count": 2,
   "metadata": {
    "scrolled": false
   },
   "outputs": [
    {
     "name": "stdout",
     "output_type": "stream",
     "text": [
      "Requirement already satisfied: torch in c:\\users\\enoch\\appdata\\local\\programs\\python\\python37\\lib\\site-packages (1.8.0)\n",
      "Requirement already satisfied: typing-extensions in c:\\users\\enoch\\appdata\\local\\programs\\python\\python37\\lib\\site-packages (from torch) (3.7.4.3)\n",
      "Requirement already satisfied: numpy in c:\\users\\enoch\\appdata\\local\\programs\\python\\python37\\lib\\site-packages (from torch) (1.16.4)\n"
     ]
    },
    {
     "name": "stderr",
     "output_type": "stream",
     "text": [
      "WARNING: You are using pip version 20.2.4; however, version 21.0.1 is available.\n",
      "You should consider upgrading via the 'c:\\users\\enoch\\appdata\\local\\programs\\python\\python37\\python.exe -m pip install --upgrade pip' command.\n"
     ]
    }
   ],
   "source": [
    "!{sys.executable} -m pip install torch"
   ]
  },
  {
   "cell_type": "code",
   "execution_count": 1,
   "metadata": {},
   "outputs": [],
   "source": [
    "# Load toolkit\n",
    "import logging\n",
    "import gym\n",
    "import math\n",
    "import random\n",
    "import torch\n",
    "import torch.nn as nn\n",
    "import torch.optim\n",
    "import torch.autograd\n",
    "import numpy as np\n",
    "\n",
    "\n",
    "import matplotlib.pyplot as plt\n",
    "%matplotlib inline\n",
    "\n",
    "from collections import deque\n",
    "from env_wrapper import make_atari, wrap_deepmind, wrap_pytorch\n",
    "\n",
    "USE_CUDA = torch.cuda.is_available() # if we have a gpu to make the compute faster"
   ]
  },
  {
   "cell_type": "code",
   "execution_count": 2,
   "metadata": {},
   "outputs": [
    {
     "data": {
      "text/plain": [
       "(210, 160, 3)"
      ]
     },
     "execution_count": 2,
     "metadata": {},
     "output_type": "execute_result"
    }
   ],
   "source": [
    "# Load game environment\n",
    "env = gym.make('PongNoFrameskip-v4')\n",
    "# Reset environment\n",
    "observation = env.reset()\n",
    "# Pixel shape\n",
    "observation.shape"
   ]
  },
  {
   "cell_type": "code",
   "execution_count": 3,
   "metadata": {},
   "outputs": [],
   "source": [
    "class Pong(torch.nn.Module):\n",
    "\n",
    "    def __init__(self, action_num):\n",
    "        super(Pong, self).__init__()\n",
    "        # Three convolutional layers\n",
    "        self.conv = nn.Sequential(\n",
    "            nn.Conv2d(1, 32, kernel_size=8, stride=4),\n",
    "            nn.ReLU(),\n",
    "            nn.Conv2d(32, 64, kernel_size=4, stride=2),\n",
    "            nn.ReLU(),\n",
    "            nn.Conv2d(64, 64, kernel_size=3, stride=1),\n",
    "            nn.ReLU()\n",
    "        )\n",
    "        # Two fully connected layers\n",
    "        self.fc = nn.Sequential(\n",
    "            nn.Linear(self.feature_size(), 512),\n",
    "            nn.ReLU(),\n",
    "            nn.Linear(512, action_num)\n",
    "        )\n",
    "\n",
    "    def forward(self, x):\n",
    "        # evaluate the network and return the action values \n",
    "        x = self.conv(x)\n",
    "        x = x.view(x.size(0), -1)\n",
    "        x = self.fc(x)\n",
    "        return x\n",
    "\n",
    "    def feature_size(self):\n",
    "        # Return the size of last convolutional layer\n",
    "        with torch.no_grad():\n",
    "            feature_num = self.conv(torch.zeros(1, 1, 84, 84)).view(1, -1).size(1)\n",
    "        return feature_num\n",
    "\n",
    "    def action(self, state):\n",
    "        # Choose action based on max action values\n",
    "        state = to_tensor(state)\n",
    "        if USE_CUDA:\n",
    "            state = state.cuda()\n",
    "        q_values = self.forward(state)\n",
    "        return q_values.max(1)[1].data[0]"
   ]
  },
  {
   "cell_type": "code",
   "execution_count": 4,
   "metadata": {},
   "outputs": [
    {
     "data": {
      "text/plain": [
       "Pong(\n",
       "  (conv): Sequential(\n",
       "    (0): Conv2d(1, 32, kernel_size=(8, 8), stride=(4, 4))\n",
       "    (1): ReLU()\n",
       "    (2): Conv2d(32, 64, kernel_size=(4, 4), stride=(2, 2))\n",
       "    (3): ReLU()\n",
       "    (4): Conv2d(64, 64, kernel_size=(3, 3), stride=(1, 1))\n",
       "    (5): ReLU()\n",
       "  )\n",
       "  (fc): Sequential(\n",
       "    (0): Linear(in_features=3136, out_features=512, bias=True)\n",
       "    (1): ReLU()\n",
       "    (2): Linear(in_features=512, out_features=6, bias=True)\n",
       "  )\n",
       ")"
      ]
     },
     "execution_count": 4,
     "metadata": {},
     "output_type": "execute_result"
    }
   ],
   "source": [
    "Pong(6)  # show the structure of the network"
   ]
  },
  {
   "cell_type": "code",
   "execution_count": 4,
   "metadata": {},
   "outputs": [],
   "source": [
    "def train():\n",
    "    # Train begin\n",
    "    # Sample batch data\n",
    "    state, action, reward, next_state, done = zip(*random.sample(replay_buffer, batch_size))\n",
    "    state = np.concatenate(state)\n",
    "    next_state = np.concatenate(next_state)\n",
    "    \n",
    "    # Calculate loss\n",
    "    # Input the data as tensors\n",
    "    state = torch.Tensor(state)\n",
    "    next_state = torch.Tensor(next_state)\n",
    "    action = torch.LongTensor(action)\n",
    "    reward = torch.Tensor(reward)\n",
    "    done = torch.Tensor(done)\n",
    "    # Use CUDA\n",
    "    if USE_CUDA:\n",
    "        state = state.cuda()\n",
    "        next_state = next_state.cuda()\n",
    "        action = action.cuda()\n",
    "        reward = reward.cuda()\n",
    "        done = done.cuda()\n",
    "    # Calculate Q values based on the model\n",
    "    q_values = model(state)\n",
    "    next_q_values = model(next_state)\n",
    "\n",
    "    q_value = q_values.gather(1, action.unsqueeze(1)).squeeze(1)\n",
    "    next_q_value = next_q_values.max(1)[0]\n",
    "    # Set expected_q_value\n",
    "    expected_q_value = reward + gamma * next_q_value * (1 - done)\n",
    "    # Set loss\n",
    "    loss = (q_value - expected_q_value).pow(2).mean()\n",
    "\n",
    "    # Clear grad\n",
    "    optimizer.zero_grad()\n",
    "    # Backward\n",
    "    loss.backward()\n",
    "    # Grad step\n",
    "    optimizer.step()\n",
    "    # Train end"
   ]
  },
  {
   "cell_type": "code",
   "execution_count": 6,
   "metadata": {},
   "outputs": [],
   "source": [
    "logger = logging.getLogger()\n",
    "# game environment id\n",
    "env_id = 'PongNoFrameskip-v4'\n",
    "# env_id = 'Pong-v0'\n",
    "\n",
    "round = 0\n",
    "save_every_n_round = 100\n",
    "\n",
    "render = False\n",
    "\n",
    "one_round_max_frame = 10000\n",
    "# Adam optimizer learning rate\n",
    "learning_rate = 0.00001\n",
    "# exploration rates at beginning and at the end\n",
    "epsilon_begin = 1\n",
    "epsilon_end = 0.02\n",
    "\n",
    "# Set experience replay buffer size\n",
    "replay_buffer_size = 100000\n",
    "replay_initial = 10000\n",
    "# Set batch size\n",
    "batch_size = 32\n",
    "# Set discount\n",
    "gamma = 0.99\n",
    "\n",
    "# Output the model\n",
    "model_file = \"batch_\"+str(batch_size)+\"_pong.model\"\n",
    "file_handler = logging.FileHandler(str(batch_size)+\".log\")\n",
    "file_handler.setLevel(logging.INFO)\n",
    "logger.setLevel(logging.INFO)\n",
    "logger.addHandler(file_handler)\n",
    "\n",
    "def to_tensor(I):\n",
    "    return torch.Tensor(I).unsqueeze(0)"
   ]
  },
  {
   "cell_type": "code",
   "execution_count": 7,
   "metadata": {},
   "outputs": [],
   "source": [
    "# Accepts a tuple (s,a,r,s') and keeps a list, returns a random batch of tuples as needed\n",
    "replay_buffer = deque(maxlen=replay_buffer_size)\n",
    "# Set environment that skip over the 4 observations over all the time steps\n",
    "env = make_atari(env_id)\n",
    "# Configure environment for DeepMind-style Atari\n",
    "env = wrap_deepmind(env)\n",
    "# Set the environment that can be used in pytorch\n",
    "env = wrap_pytorch(env)\n",
    "model = Pong(env.action_space.n)\n",
    "if USE_CUDA:\n",
    "    model = model.cuda()\n",
    "# Train step\n",
    "optimizer = torch.optim.Adam(model.parameters(), lr=learning_rate)\n",
    "# Set the initial exploration rate\n",
    "epsilon = epsilon_begin\n",
    "epsilon_decay = 30000\n",
    "# Decay exploration from 1 to 0.02\n",
    "import math\n",
    "epsilon_by_frame = lambda frame_idx: epsilon_end + (epsilon_begin - epsilon_end) * math.exp(-1. * frame_idx / epsilon_decay)\n",
    "frame_seq = 0\n",
    "round_reward = 0\n",
    "# while True:\n",
    "for _ in range(20):\n",
    "    break\n",
    "    # reset environment\n",
    "    state = env.reset()\n",
    "    # state = pre_process(state)\n",
    "    # state = np.concatenate([state, state])\n",
    "\n",
    "    round_over = False\n",
    "    # Runing until the game round over\n",
    "    while not round_over:\n",
    "        # Set exploration rate\n",
    "        epsilon = epsilon_by_frame(frame_seq)\n",
    "        # behave according to an epsilon greedy policy\n",
    "        action = env.action_space.sample()\n",
    "        if random.random() > epsilon:\n",
    "            action = model.action(state)\n",
    "        # agent takes the action, and the environment responds\n",
    "        next_state, reward, done, _ = env.step(action)\n",
    "        round_over = done\n",
    "        # next_state = pre_process(next_state)\n",
    "        # next_state = np.concatenate([state[80:], next_state])\n",
    "\n",
    "        # push to replay buffer\n",
    "        s = np.expand_dims(state, 0)\n",
    "        ns = np.expand_dims(next_state, 0)\n",
    "        replay_buffer.append((s, action, reward, ns, done))\n",
    "        # update the state\n",
    "        state = next_state\n",
    "        frame_seq += 1\n",
    "        # print(frame_seq)\n",
    "        # Gather the rewards\n",
    "        round_reward += reward\n",
    "        # Start training when there are enough memory exists\n",
    "        if len(replay_buffer) > replay_initial:\n",
    "            train()\n",
    "\n",
    "        if frame_seq % 10000 == 0:\n",
    "            # print(\"saving model\", frame_seq)\n",
    "            logger.info(\"current round: \"+str(round)+\"saving model\")\n",
    "            # from datetime import datetime\n",
    "            # start = datetime.now()\n",
    "            torch.save(model, model_file)\n",
    "            # print(datetime.now() - start)\n",
    "    # Caculate round number\n",
    "    round += 1\n",
    "    # print(\"round over\", round_reward)\n",
    "    logger.info(\"round reward: \"+str(round_reward))\n",
    "    round_reward = 0"
   ]
  },
  {
   "cell_type": "code",
   "execution_count": 8,
   "metadata": {
    "scrolled": true
   },
   "outputs": [
    {
     "data": {
      "image/png": "[encoded data removed]",
      "text/plain": [
       "<Figure size 432x288 with 1 Axes>"
      ]
     },
     "metadata": {
      "needs_background": "light"
     },
     "output_type": "display_data"
    },
    {
     "name": "stdout",
     "output_type": "stream",
     "text": [
      "we win at rate  1.0\n"
     ]
    }
   ],
   "source": [
    "# Load the model\n",
    "pong = torch.load(\"nGbatch_32_pong.model\",map_location=torch.device('cpu'))\n",
    "# Set test rounds\n",
    "test_rounds = 1\n",
    "win_num = 0\n",
    "score = []\n",
    "current = 0\n",
    "for round in range(test_rounds):\n",
    "    # reset the environment\n",
    "    state = env.reset()\n",
    "    current = 0\n",
    "    round_over = False\n",
    "    # Running until the round over\n",
    "    while not round_over:\n",
    "        env.render()\n",
    "        # Running greedy \n",
    "        action = pong.action(state)\n",
    "        # agent takes the action, and the environment responds\n",
    "        next_state, reward, round_over, _ = env.step(action)\n",
    "        # Caculate round reward\n",
    "        current += reward\n",
    "        # Update state\n",
    "        state = next_state\n",
    "    # Calculate number of victory\n",
    "    if reward > 0:\n",
    "        win_num+=1\n",
    "    score.append(current)\n",
    "# Plot the result\n",
    "plt.plot(score)\n",
    "plt.xlabel('Round')\n",
    "plt.ylabel('total reward per round')\n",
    "plt.title('DQN Pong game q-learning (test)')\n",
    "plt.ylim((-21,21))\n",
    "plt.show()\n",
    "# Print the wining rate\n",
    "print(\"we win at rate \", win_num/test_rounds)"
   ]
  },
  {
   "cell_type": "code",
   "execution_count": 8,
   "metadata": {},
   "outputs": [],
   "source": [
    "# Read the log trail\n",
    "def read_log(filename):\n",
    "    results = []\n",
    "    with open(filename) as f:\n",
    "        for line in f:\n",
    "            if line.startswith(\"round reward\"):\n",
    "                reward = line.replace(\"\\n\", \"\").replace(\"\\r\", \"\").replace(\"round reward: \", \"\")\n",
    "                results.append(float(reward))\n",
    "    return results"
   ]
  },
  {
   "cell_type": "code",
   "execution_count": 9,
   "metadata": {
    "scrolled": true
   },
   "outputs": [
    {
     "data": {
      "image/png": "[encoded data removed]",
      "text/plain": [
       "<Figure size 432x288 with 1 Axes>"
      ]
     },
     "metadata": {
      "needs_background": "light"
     },
     "output_type": "display_data"
    }
   ],
   "source": [
    "# Plot the result\n",
    "plt.plot(read_log(\"32.log\"))  # reward of the train process\n",
    "plt.xlabel('Round')\n",
    "plt.ylabel('total reward per round')\n",
    "plt.title('DQN Pong game q-learning (training)')\n",
    "plt.show()"
   ]
  }
 ],
 "metadata": {
  "kernelspec": {
   "display_name": "Python 3",
   "language": "python",
   "name": "python3"
  },
  "language_info": {
   "codemirror_mode": {
    "name": "ipython",
    "version": 3
   },
   "file_extension": ".py",
   "mimetype": "text/x-python",
   "name": "python",
   "nbconvert_exporter": "python",
   "pygments_lexer": "ipython3",
   "version": "3.7.3"
  }
 },
 "nbformat": 4,
 "nbformat_minor": 2
}
